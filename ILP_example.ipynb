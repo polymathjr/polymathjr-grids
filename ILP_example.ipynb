{
 "cells": [
  {
   "cell_type": "markdown",
   "id": "4bc6db91",
   "metadata": {},
   "source": [
    "# An example of ILP in Sage for grids\n",
    "\n",
    "Here we give an example of using ILP solvers in Sage to find the optimum number of lines covering grids. "
   ]
  },
  {
   "cell_type": "markdown",
   "id": "322e932d",
   "metadata": {},
   "source": [
    "### First, create functions to generate all lines! \n",
    "\n",
    "Credit: code from Bachelor Thesis of Yvonne den Bakker"
   ]
  },
  {
   "cell_type": "code",
   "execution_count": 15,
   "id": "62e6080b",
   "metadata": {},
   "outputs": [],
   "source": [
    "# Returns a collection of all vertical and horizontal lines in X x Y,\n",
    "# where each line ax+by=c is represented by [a,b,c]\n",
    "def hvlines(X,Y):\n",
    "    linecoords = [0,0,0]\n",
    "    total = np.array([])\n",
    "    for i in range(len(X)):\n",
    "        linecoords[0] = 1\n",
    "        linecoords[1] = 0\n",
    "        linecoords[2] = X[i]\n",
    "        total = np.append(total, linecoords)\n",
    "    for j in range(len(Y)):\n",
    "        linecoords[0] = 0\n",
    "        linecoords[1] = 1\n",
    "        linecoords[2] = Y[j]\n",
    "        total = np.append(total,linecoords)\n",
    "    total2 = [[0,0,0] for _ in range(len(X)+len(Y))]\n",
    "    for k in range(len(X)+len(Y)):\n",
    "        total2[k] = total[3*k:3*k+3]\n",
    "    return total2\n",
    "\n",
    "\n",
    "\n",
    "# Returns the line through point a and point b\n",
    "# where each line ax+by=c is represented by [a,b,c]\n",
    "def linethr(a,b):\n",
    "    linecoords=[0,0,0]\n",
    "    if (a[1]< b[1] and a[0]<b[0]) or(a[1]> b[1] and a[0]>b[0]):\n",
    "        #if (a_y < b_y and a_x < b_x) or (a_y > b_y and a_x > b_x), the line is increasing.\n",
    "        linecoords[1] = 1\n",
    "        linecoords[0] = -abs(a[1]-b[1])*(abs(a[0]-b[0]))**(-1)\n",
    "        linecoords[2] = min(a[1],b[1])+ min(a[0],b[0])*linecoords[0]\n",
    "        return linecoords\n",
    "    \n",
    "    if (a[1]< b[1] and a[0]>b[0]) or (a[1]> b[1] and a[0]<b[0]):\n",
    "        #if (a_y < b_y and a_x > b_x) or (a_y > b_y and a_x < b_x), the line is decreasing.\n",
    "        linecoords[1] = 1\n",
    "        linecoords[0] = abs(a[1]-b[1])*(abs(a[0]-b[0]))**(-1)\n",
    "        linecoords[2] = max(a[1],b[1])+ min(a[0],b[0])*linecoords[0]\n",
    "        return linecoords"
   ]
  },
  {
   "cell_type": "code",
   "execution_count": 16,
   "id": "d748dbbd",
   "metadata": {},
   "outputs": [
    {
     "data": {
      "text/plain": [
       "[-2, 1, -1]"
      ]
     },
     "execution_count": 16,
     "metadata": {},
     "output_type": "execute_result"
    }
   ],
   "source": [
    "linethr((1, 1),(2, 3))"
   ]
  },
  {
   "cell_type": "code",
   "execution_count": 17,
   "id": "90ec5605",
   "metadata": {},
   "outputs": [],
   "source": [
    "# Returns a list containing all horizontal, vertical, increasing and decreasing\n",
    "# lines through every point in the grid X x Y\n",
    "def createlines(X,Y): #Where X and Y are the n resp. m elements of the grid\n",
    "    total = hvlines(X,Y)\n",
    "    lines = set(tuple(i) for i in total)\n",
    "    for i in range(len(X)):\n",
    "        for j in range(len(Y)):\n",
    "            for k in range(len(X)):\n",
    "                for l in range(len(Y)):\n",
    "                    if X[i]!=X[k] and Y[j]!=Y[l]:\n",
    "                        lines.add(tuple(linethr([X[i],Y[j]],[X[k],Y[l]])))\n",
    "    return list(lines)"
   ]
  },
  {
   "cell_type": "markdown",
   "id": "ae39c713",
   "metadata": {},
   "source": [
    "### Now, we create a grid, and generate all lines on it!\n",
    "\n",
    "We can use numpy, a python package for high powered arrays and numerical computation."
   ]
  },
  {
   "cell_type": "code",
   "execution_count": 18,
   "id": "18464190",
   "metadata": {},
   "outputs": [],
   "source": [
    "import numpy as np"
   ]
  },
  {
   "cell_type": "code",
   "execution_count": 19,
   "id": "9566b6b0",
   "metadata": {},
   "outputs": [
    {
     "name": "stdout",
     "output_type": "stream",
     "text": [
      "12 points and 35 lines!\n"
     ]
    }
   ],
   "source": [
    "# Dimensions of our grid\n",
    "n = 4\n",
    "m = 3\n",
    "k = 2\n",
    "\n",
    "# Make a linear grid\n",
    "X = list(np.linspace(0, n-1, n))\n",
    "Y = list(np.linspace(0, m-1, m))\n",
    "\n",
    "# Create a list of all lines going through at least two points in the grid\n",
    "Lines = createlines(X,Y)\n",
    "\n",
    "# Create a list of all points in the grid\n",
    "pts = []\n",
    "N = n*m\n",
    "M = len(Lines)\n",
    "for Xi in X:\n",
    "    for Yj in Y:\n",
    "        pts.append([Xi,Yj])\n",
    "\n",
    "print(f'{N} points and {M} lines!')"
   ]
  },
  {
   "cell_type": "code",
   "execution_count": 20,
   "id": "031917de",
   "metadata": {},
   "outputs": [
    {
     "data": {
      "text/plain": [
       "[[0.0, 0.0],\n",
       " [0.0, 1.0],\n",
       " [0.0, 2.0],\n",
       " [1.0, 0.0],\n",
       " [1.0, 1.0],\n",
       " [1.0, 2.0],\n",
       " [2.0, 0.0],\n",
       " [2.0, 1.0],\n",
       " [2.0, 2.0],\n",
       " [3.0, 0.0],\n",
       " [3.0, 1.0],\n",
       " [3.0, 2.0]]"
      ]
     },
     "execution_count": 20,
     "metadata": {},
     "output_type": "execute_result"
    }
   ],
   "source": [
    "pts"
   ]
  },
  {
   "cell_type": "code",
   "execution_count": 21,
   "id": "ef29149e",
   "metadata": {},
   "outputs": [
    {
     "data": {
      "text/plain": [
       "[(-1.0, 1, -1.0),\n",
       " (-2.0, 1, -2.0),\n",
       " (-1.0, 1, -2.0),\n",
       " (0.0, 1.0, 0.0),\n",
       " (-1.0, 1, 1.0),\n",
       " (2.0, 1, 6.0),\n",
       " (-0.3333333333333333, 1, 1.0),\n",
       " (1.0, 0.0, 1.0),\n",
       " (1.0, 1, 3.0),\n",
       " (0.3333333333333333, 1, 2.0),\n",
       " (-0.5, 1, 1.0),\n",
       " (2.0, 1, 2.0),\n",
       " (-1.0, 1, 0.0),\n",
       " (-2.0, 1, 0.0),\n",
       " (0.0, 1.0, 2.0),\n",
       " (-0.3333333333333333, 1, 0.0),\n",
       " (0.5, 1, 2.0),\n",
       " (-0.6666666666666666, 1, 0.0),\n",
       " (1.0, 1, 2.0),\n",
       " (1.0, 0.0, 0.0),\n",
       " (0.3333333333333333, 1, 1.0),\n",
       " (0.5, 1, 2.5),\n",
       " (1.0, 0.0, 3.0),\n",
       " (-2.0, 1, -4.0),\n",
       " (0.6666666666666666, 1, 2.0),\n",
       " (-0.5, 1, 0.0),\n",
       " (0.0, 1.0, 1.0),\n",
       " (-0.5, 1, -0.5),\n",
       " (-0.5, 1, 0.5),\n",
       " (1.0, 0.0, 2.0),\n",
       " (0.5, 1, 1.5),\n",
       " (2.0, 1, 4.0),\n",
       " (1.0, 1, 4.0),\n",
       " (0.5, 1, 1.0),\n",
       " (1.0, 1, 1.0)]"
      ]
     },
     "execution_count": 21,
     "metadata": {},
     "output_type": "execute_result"
    }
   ],
   "source": [
    "Lines"
   ]
  },
  {
   "cell_type": "code",
   "execution_count": 22,
   "id": "f21f40fb",
   "metadata": {},
   "outputs": [],
   "source": [
    "# Which point do we want to avoid?\n",
    "# Default is (0,0) but can be altered.\n",
    "MPx = 0\n",
    "MPy = 0\n",
    "\n",
    "# Make avoided point the first one in the list\n",
    "if not (MPx == MPy and MPx == 0):\n",
    "    pts[0],pts[n*MPx + MPy] = pts[n*MPx + MPy], pts[0]"
   ]
  },
  {
   "cell_type": "code",
   "execution_count": 23,
   "id": "efc334ff",
   "metadata": {},
   "outputs": [],
   "source": [
    "# Tells us if pts[i] lies on Lines[j] \n",
    "def ksi(i,j): \n",
    "    if pts[i][0]*Lines[j][0] + pts[i][1]*Lines[j][1] == Lines[j][2]:\n",
    "        return 1\n",
    "    else:\n",
    "        return 0"
   ]
  },
  {
   "cell_type": "markdown",
   "id": "34ea7863",
   "metadata": {},
   "source": [
    "### Now, we write down the ILP to represent the problem!"
   ]
  },
  {
   "cell_type": "code",
   "execution_count": 24,
   "id": "8b86adba",
   "metadata": {},
   "outputs": [
    {
     "name": "stdout",
     "output_type": "stream",
     "text": [
      "[0.0 0.0 0.0 0.0 1.0 0.0 1.0 0.0 0.0 0.0 1.0 0.0 0.0 0.0 0.0 0.0 0.0 0.0 0.0 1.0 1.0 0.0 0.0 0.0 0.0 0.0 1.0 0.0 0.0 0.0 0.0 0.0 0.0 1.0 1.0]\n",
      "[0.0 0.0 0.0 0.0 0.0 0.0 0.0 0.0 0.0 1.0 0.0 1.0 0.0 0.0 1.0 0.0 1.0 0.0 1.0 1.0 0.0 0.0 0.0 0.0 1.0 0.0 0.0 0.0 0.0 0.0 0.0 0.0 0.0 0.0 0.0]\n",
      "[1.0 1.0 0.0 1.0 0.0 0.0 0.0 1.0 0.0 0.0 0.0 1.0 0.0 0.0 0.0 0.0 0.0 0.0 0.0 0.0 0.0 0.0 0.0 0.0 0.0 0.0 0.0 1.0 0.0 0.0 0.0 0.0 0.0 0.0 1.0]\n",
      "[0.0 0.0 0.0 0.0 0.0 0.0 0.0 1.0 0.0 0.0 0.0 0.0 1.0 0.0 0.0 0.0 0.0 0.0 1.0 0.0 0.0 0.0 0.0 0.0 0.0 0.0 1.0 0.0 1.0 0.0 1.0 0.0 0.0 0.0 0.0]\n",
      "[0.0 0.0 0.0 0.0 1.0 0.0 0.0 1.0 1.0 0.0 0.0 0.0 0.0 1.0 1.0 0.0 0.0 0.0 0.0 0.0 0.0 1.0 0.0 0.0 0.0 0.0 0.0 0.0 0.0 0.0 0.0 1.0 0.0 0.0 0.0]\n",
      "[0.0 0.0 1.0 1.0 0.0 0.0 0.0 0.0 0.0 0.0 0.0 0.0 0.0 0.0 0.0 0.0 0.0 0.0 1.0 0.0 0.0 0.0 0.0 1.0 0.0 0.0 0.0 0.0 0.0 1.0 0.0 1.0 0.0 1.0 0.0]\n",
      "[1.0 0.0 0.0 0.0 0.0 0.0 0.0 0.0 1.0 0.0 0.0 0.0 0.0 0.0 0.0 0.0 1.0 0.0 0.0 0.0 0.0 0.0 0.0 0.0 0.0 1.0 1.0 0.0 0.0 1.0 0.0 0.0 0.0 0.0 0.0]\n",
      "[0.0 1.0 0.0 0.0 0.0 1.0 0.0 0.0 0.0 0.0 1.0 0.0 1.0 0.0 1.0 0.0 0.0 0.0 0.0 0.0 0.0 0.0 0.0 0.0 0.0 0.0 0.0 0.0 0.0 1.0 0.0 0.0 1.0 0.0 0.0]\n",
      "[0.0 0.0 0.0 1.0 0.0 1.0 0.0 0.0 1.0 0.0 0.0 0.0 0.0 0.0 0.0 0.0 0.0 0.0 0.0 0.0 1.0 0.0 1.0 0.0 1.0 0.0 0.0 0.0 0.0 0.0 1.0 0.0 0.0 0.0 0.0]\n",
      "[0.0 0.0 1.0 0.0 0.0 0.0 0.0 0.0 0.0 1.0 0.0 0.0 0.0 0.0 0.0 1.0 0.0 0.0 0.0 0.0 0.0 1.0 1.0 0.0 0.0 0.0 1.0 1.0 0.0 0.0 0.0 0.0 1.0 0.0 0.0]\n",
      "[1.0 0.0 0.0 0.0 0.0 0.0 1.0 0.0 0.0 0.0 0.0 0.0 0.0 0.0 1.0 0.0 0.0 1.0 0.0 0.0 0.0 0.0 1.0 1.0 0.0 0.0 0.0 0.0 1.0 0.0 0.0 0.0 0.0 0.0 0.0]\n"
     ]
    }
   ],
   "source": [
    "p = MixedIntegerLinearProgram(maximization=False, solver = \"GLPK\")\n",
    "w = p.new_variable(integer=True, nonnegative=True)\n",
    "\n",
    "# Objective to minimize is the number of lines\n",
    "p.set_objective(sum(w[line] for line in range(M)))\n",
    "\n",
    "const_matrix = np.zeros((N,M))\n",
    "for l in range(N):\n",
    "    for i in range(M):\n",
    "        const_matrix[l,i] = ksi(l,i)\n",
    "\n",
    "k_consts = matrix(const_matrix[1:,:])\n",
    "print(k_consts)"
   ]
  },
  {
   "cell_type": "code",
   "execution_count": 25,
   "id": "6503aff9",
   "metadata": {},
   "outputs": [
    {
     "name": "stdout",
     "output_type": "stream",
     "text": [
      "[0.0 0.0 0.0 1.0 0.0 0.0 0.0 0.0 0.0 0.0 0.0 0.0 1.0 1.0 0.0 1.0 0.0 1.0 0.0 1.0 0.0 0.0 0.0 0.0 0.0 1.0 0.0 0.0 0.0 0.0 0.0 0.0 0.0 0.0 0.0]\n"
     ]
    }
   ],
   "source": [
    "zero_const = matrix(const_matrix[0:1,:])\n",
    "print(zero_const)"
   ]
  },
  {
   "cell_type": "code",
   "execution_count": 27,
   "id": "f285404f",
   "metadata": {},
   "outputs": [
    {
     "name": "stdout",
     "output_type": "stream",
     "text": [
      "Minimization:\n",
      "  x_0 + x_1 + x_2 + x_3 + x_4 + x_5 + x_6 + x_7 + x_8 + x_9 + x_10 + x_11 + x_12 + x_13 + x_14 + x_15 + x_16 + x_17 + x_18 + x_19 + x_20 + x_21 + x_22 + x_23 + x_24 + x_25 + x_26 + x_27 + x_28 + x_29 + x_30 + x_31 + x_32 + x_33 + x_34 \n",
      "\n",
      "Constraints:\n",
      "  - x_4 - x_6 - x_10 - x_19 - x_20 - x_26 - x_33 - x_34 <= -2.0\n",
      "  - x_9 - x_11 - x_14 - x_16 - x_18 - x_19 - x_24 <= -2.0\n",
      "  - x_0 - x_1 - x_3 - x_7 - x_11 - x_27 - x_34 <= -2.0\n",
      "  - x_7 - x_12 - x_18 - x_26 - x_28 - x_30 <= -2.0\n",
      "  - x_4 - x_7 - x_8 - x_13 - x_14 - x_21 - x_31 <= -2.0\n",
      "  - x_2 - x_3 - x_18 - x_23 - x_29 - x_31 - x_33 <= -2.0\n",
      "  - x_0 - x_8 - x_16 - x_25 - x_26 - x_29 <= -2.0\n",
      "  - x_1 - x_5 - x_10 - x_12 - x_14 - x_29 - x_32 <= -2.0\n",
      "  - x_3 - x_5 - x_8 - x_20 - x_22 - x_24 - x_30 <= -2.0\n",
      "  - x_2 - x_9 - x_15 - x_21 - x_22 - x_26 - x_27 - x_32 <= -2.0\n",
      "  - x_0 - x_6 - x_14 - x_17 - x_22 - x_23 - x_28 <= -2.0\n",
      "  0.0 <= x_3 + x_12 + x_13 + x_15 + x_17 + x_19 + x_25 <= 0.0\n",
      "  - x_4 - x_6 - x_10 - x_19 - x_20 - x_26 - x_33 - x_34 <= -2.0\n",
      "  - x_9 - x_11 - x_14 - x_16 - x_18 - x_19 - x_24 <= -2.0\n",
      "  - x_0 - x_1 - x_3 - x_7 - x_11 - x_27 - x_34 <= -2.0\n",
      "  - x_7 - x_12 - x_18 - x_26 - x_28 - x_30 <= -2.0\n",
      "  - x_4 - x_7 - x_8 - x_13 - x_14 - x_21 - x_31 <= -2.0\n",
      "  - x_2 - x_3 - x_18 - x_23 - x_29 - x_31 - x_33 <= -2.0\n",
      "  - x_0 - x_8 - x_16 - x_25 - x_26 - x_29 <= -2.0\n",
      "  - x_1 - x_5 - x_10 - x_12 - x_14 - x_29 - x_32 <= -2.0\n",
      "  - x_3 - x_5 - x_8 - x_20 - x_22 - x_24 - x_30 <= -2.0\n",
      "  - x_2 - x_9 - x_15 - x_21 - x_22 - x_26 - x_27 - x_32 <= -2.0\n",
      "  - x_0 - x_6 - x_14 - x_17 - x_22 - x_23 - x_28 <= -2.0\n",
      "  0.0 <= x_3 + x_12 + x_13 + x_15 + x_17 + x_19 + x_25 <= 0.0\n",
      "Variables:\n",
      "  x_0 is an integer variable (min=0.0, max=+oo)\n",
      "  x_1 is an integer variable (min=0.0, max=+oo)\n",
      "  x_2 is an integer variable (min=0.0, max=+oo)\n",
      "  x_3 is an integer variable (min=0.0, max=+oo)\n",
      "  x_4 is an integer variable (min=0.0, max=+oo)\n",
      "  x_5 is an integer variable (min=0.0, max=+oo)\n",
      "  x_6 is an integer variable (min=0.0, max=+oo)\n",
      "  x_7 is an integer variable (min=0.0, max=+oo)\n",
      "  x_8 is an integer variable (min=0.0, max=+oo)\n",
      "  x_9 is an integer variable (min=0.0, max=+oo)\n",
      "  x_10 is an integer variable (min=0.0, max=+oo)\n",
      "  x_11 is an integer variable (min=0.0, max=+oo)\n",
      "  x_12 is an integer variable (min=0.0, max=+oo)\n",
      "  x_13 is an integer variable (min=0.0, max=+oo)\n",
      "  x_14 is an integer variable (min=0.0, max=+oo)\n",
      "  x_15 is an integer variable (min=0.0, max=+oo)\n",
      "  x_16 is an integer variable (min=0.0, max=+oo)\n",
      "  x_17 is an integer variable (min=0.0, max=+oo)\n",
      "  x_18 is an integer variable (min=0.0, max=+oo)\n",
      "  x_19 is an integer variable (min=0.0, max=+oo)\n",
      "  x_20 is an integer variable (min=0.0, max=+oo)\n",
      "  x_21 is an integer variable (min=0.0, max=+oo)\n",
      "  x_22 is an integer variable (min=0.0, max=+oo)\n",
      "  x_23 is an integer variable (min=0.0, max=+oo)\n",
      "  x_24 is an integer variable (min=0.0, max=+oo)\n",
      "  x_25 is an integer variable (min=0.0, max=+oo)\n",
      "  x_26 is an integer variable (min=0.0, max=+oo)\n",
      "  x_27 is an integer variable (min=0.0, max=+oo)\n",
      "  x_28 is an integer variable (min=0.0, max=+oo)\n",
      "  x_29 is an integer variable (min=0.0, max=+oo)\n",
      "  x_30 is an integer variable (min=0.0, max=+oo)\n",
      "  x_31 is an integer variable (min=0.0, max=+oo)\n",
      "  x_32 is an integer variable (min=0.0, max=+oo)\n",
      "  x_33 is an integer variable (min=0.0, max=+oo)\n",
      "  x_34 is an integer variable (min=0.0, max=+oo)\n"
     ]
    }
   ],
   "source": [
    "# Every point must be covered at least k times\n",
    "p.add_constraint(k_consts * w >= k)\n",
    "\n",
    "p.add_constraint(zero_const * w == 0)\n",
    "\n",
    "p.show()"
   ]
  },
  {
   "cell_type": "code",
   "execution_count": 28,
   "id": "5fe2ac3e",
   "metadata": {},
   "outputs": [
    {
     "data": {
      "text/plain": [
       "8.0"
      ]
     },
     "execution_count": 28,
     "metadata": {},
     "output_type": "execute_result"
    }
   ],
   "source": [
    "p.solve()"
   ]
  },
  {
   "cell_type": "code",
   "execution_count": 67,
   "id": "2ecb2d59",
   "metadata": {},
   "outputs": [
    {
     "data": {
      "image/png": "[encoded data removed]",
      "text/plain": [
       "Graphics object consisting of 2 graphics primitives"
      ]
     },
     "execution_count": 67,
     "metadata": {},
     "output_type": "execute_result"
    }
   ],
   "source": [
    "l = line([(1, 0), (0, 1)])\n",
    "p = point(pts)\n",
    "plot(l + p)"
   ]
  },
  {
   "cell_type": "code",
   "execution_count": null,
   "id": "c097e78b",
   "metadata": {},
   "outputs": [],
   "source": []
  }
 ],
 "metadata": {
  "kernelspec": {
   "display_name": "SageMath 10.0",
   "language": "sage",
   "name": "sagemath"
  },
  "language_info": {
   "codemirror_mode": {
    "name": "ipython",
    "version": 3
   },
   "file_extension": ".py",
   "mimetype": "text/x-python",
   "name": "python",
   "nbconvert_exporter": "python",
   "pygments_lexer": "ipython3",
   "version": "3.11.4"
  }
 },
 "nbformat": 4,
 "nbformat_minor": 5
}
